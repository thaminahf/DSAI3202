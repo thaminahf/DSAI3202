{
 "cells": [
  {
   "cell_type": "code",
   "execution_count": 1,
   "id": "fd84fb76-93ab-4538-9318-c3338a2ee5e1",
   "metadata": {},
   "outputs": [
    {
     "name": "stdout",
     "output_type": "stream",
     "text": [
      "Sum: 49999990000000\n",
      "Execution Time with Threads: 0.11896 seconds\n"
     ]
    }
   ],
   "source": [
    "import time\n",
    "import threading\n",
    "\n",
    "# Constants\n",
    "N = 10**7  # Large number\n",
    "THREADS = 4  # Number of threads\n",
    "\n",
    "def partial_sum(start, end, result_list, index):\n",
    "    \"\"\"Calculate partial sum and store in result_list\"\"\"\n",
    "    result_list[index] = sum(range(start, end))\n",
    "\n",
    "if __name__ == \"__main__\":\n",
    "    step = N // THREADS\n",
    "    threads = []\n",
    "    results = [0] * THREADS  # Store partial results\n",
    "\n",
    "    start_time = time.time()\n",
    "\n",
    "    for i in range(THREADS):\n",
    "        start = i * step + 1\n",
    "        end = (i + 1) * step if i != THREADS - 1 else N + 1\n",
    "        thread = threading.Thread(target=partial_sum, args=(start, end, results, i))\n",
    "        threads.append(thread)\n",
    "        thread.start()\n",
    "\n",
    "    for thread in threads:\n",
    "        thread.join()\n",
    "\n",
    "    total_sum = sum(results)\n",
    "    end_time = time.time()\n",
    "\n",
    "    print(f\"Sum: {total_sum}\")\n",
    "    print(f\"Execution Time with Threads: {end_time - start_time:.5f} seconds\")\n"
   ]
  },
  {
   "cell_type": "code",
   "execution_count": null,
   "id": "38621b73-e7f3-4070-ba9f-d527e2471bbc",
   "metadata": {},
   "outputs": [],
   "source": []
  }
 ],
 "metadata": {
  "kernelspec": {
   "display_name": "Python 3 (ipykernel)",
   "language": "python",
   "name": "python3"
  },
  "language_info": {
   "codemirror_mode": {
    "name": "ipython",
    "version": 3
   },
   "file_extension": ".py",
   "mimetype": "text/x-python",
   "name": "python",
   "nbconvert_exporter": "python",
   "pygments_lexer": "ipython3",
   "version": "3.12.7"
  }
 },
 "nbformat": 4,
 "nbformat_minor": 5
}
