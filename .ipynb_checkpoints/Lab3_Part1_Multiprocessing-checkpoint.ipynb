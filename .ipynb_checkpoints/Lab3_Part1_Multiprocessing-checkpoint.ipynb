{
 "cells": [
  {
   "cell_type": "code",
   "execution_count": 1,
   "id": "a830ed13-5030-483c-b2dd-e8340a939831",
   "metadata": {},
   "outputs": [
    {
     "name": "stdout",
     "output_type": "stream",
     "text": [
      "Sum: 49999990000000\n",
      "Execution Time with Multiprocessing: 0.08736 seconds\n"
     ]
    }
   ],
   "source": [
    "import time\n",
    "import multiprocessing\n",
    "\n",
    "# Constants\n",
    "N = 10**7  # Large number\n",
    "PROCESSES = 4  # Number of processes\n",
    "\n",
    "def partial_sum(start, end, queue):\n",
    "    \"\"\"Calculate partial sum and put result in queue\"\"\"\n",
    "    queue.put(sum(range(start, end)))\n",
    "\n",
    "if __name__ == \"__main__\":\n",
    "    step = N // PROCESSES\n",
    "    processes = []\n",
    "    queue = multiprocessing.Queue()\n",
    "\n",
    "    start_time = time.time()\n",
    "\n",
    "    for i in range(PROCESSES):\n",
    "        start = i * step + 1\n",
    "        end = (i + 1) * step if i != PROCESSES - 1 else N + 1\n",
    "        process = multiprocessing.Process(target=partial_sum, args=(start, end, queue))\n",
    "        processes.append(process)\n",
    "        process.start()\n",
    "\n",
    "    for process in processes:\n",
    "        process.join()\n",
    "\n",
    "    total_sum = sum(queue.get() for _ in range(PROCESSES))\n",
    "    end_time = time.time()\n",
    "\n",
    "    print(f\"Sum: {total_sum}\")\n",
    "    print(f\"Execution Time with Multiprocessing: {end_time - start_time:.5f} seconds\")\n"
   ]
  },
  {
   "cell_type": "code",
   "execution_count": null,
   "id": "4b4aa5ef-11fd-4a84-96ac-6d3dfd6297e6",
   "metadata": {},
   "outputs": [],
   "source": []
  }
 ],
 "metadata": {
  "kernelspec": {
   "display_name": "Python 3 (ipykernel)",
   "language": "python",
   "name": "python3"
  },
  "language_info": {
   "codemirror_mode": {
    "name": "ipython",
    "version": 3
   },
   "file_extension": ".py",
   "mimetype": "text/x-python",
   "name": "python",
   "nbconvert_exporter": "python",
   "pygments_lexer": "ipython3",
   "version": "3.12.7"
  }
 },
 "nbformat": 4,
 "nbformat_minor": 5
}
