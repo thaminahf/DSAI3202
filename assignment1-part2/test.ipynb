{
 "cells": [
  {
   "cell_type": "code",
   "execution_count": 3,
   "id": "8e9f2d77-7d5b-41f3-9c8c-07568457151e",
   "metadata": {},
   "outputs": [
    {
     "name": "stdout",
     "output_type": "stream",
     "text": [
      "Collecting numpy\n",
      "  Downloading numpy-2.2.4-cp312-cp312-manylinux_2_17_x86_64.manylinux2014_x86_64.whl.metadata (62 kB)\n",
      "Collecting pandas\n",
      "  Downloading pandas-2.2.3-cp312-cp312-manylinux_2_17_x86_64.manylinux2014_x86_64.whl.metadata (89 kB)\n",
      "Requirement already satisfied: python-dateutil>=2.8.2 in /home/student/miniconda3/lib/python3.12/site-packages (from pandas) (2.9.0.post0)\n",
      "Collecting pytz>=2020.1 (from pandas)\n",
      "  Downloading pytz-2025.1-py2.py3-none-any.whl.metadata (22 kB)\n",
      "Collecting tzdata>=2022.7 (from pandas)\n",
      "  Using cached tzdata-2025.1-py2.py3-none-any.whl.metadata (1.4 kB)\n",
      "Requirement already satisfied: six>=1.5 in /home/student/miniconda3/lib/python3.12/site-packages (from python-dateutil>=2.8.2->pandas) (1.17.0)\n",
      "Downloading numpy-2.2.4-cp312-cp312-manylinux_2_17_x86_64.manylinux2014_x86_64.whl (16.1 MB)\n",
      "\u001b[2K   \u001b[90m━━━━━━━━━━━━━━━━━━━━━━━━━━━━━━━━━━━━━━━━\u001b[0m \u001b[32m16.1/16.1 MB\u001b[0m \u001b[31m25.7 MB/s\u001b[0m eta \u001b[36m0:00:00\u001b[0ma \u001b[36m0:00:01\u001b[0m\n",
      "\u001b[?25hDownloading pandas-2.2.3-cp312-cp312-manylinux_2_17_x86_64.manylinux2014_x86_64.whl (12.7 MB)\n",
      "\u001b[2K   \u001b[90m━━━━━━━━━━━━━━━━━━━━━━━━━━━━━━━━━━━━━━━━\u001b[0m \u001b[32m12.7/12.7 MB\u001b[0m \u001b[31m20.9 MB/s\u001b[0m eta \u001b[36m0:00:00\u001b[0m \u001b[36m0:00:01\u001b[0m\n",
      "\u001b[?25hDownloading pytz-2025.1-py2.py3-none-any.whl (507 kB)\n",
      "Using cached tzdata-2025.1-py2.py3-none-any.whl (346 kB)\n",
      "Installing collected packages: pytz, tzdata, numpy, pandas\n",
      "Successfully installed numpy-2.2.4 pandas-2.2.3 pytz-2025.1 tzdata-2025.1\n",
      "Note: you may need to restart the kernel to use updated packages.\n"
     ]
    }
   ],
   "source": [
    "pip install numpy pandas\n"
   ]
  },
  {
   "cell_type": "code",
   "execution_count": 1,
   "id": "f7ccc5ef-1027-40a4-9808-5f9f71e4f983",
   "metadata": {},
   "outputs": [
    {
     "name": "stdout",
     "output_type": "stream",
     "text": [
      "Fitness: -145\n",
      "Selected Individuals: [[0, 1, 2, 3, 4, 0], [0, 1, 2, 3, 4, 0], [0, 1, 2, 3, 4, 0], [0, 1, 2, 3, 4, 0]]\n"
     ]
    }
   ],
   "source": [
    "import numpy as np\n",
    "from genetic_algorithms_functions import calculate_fitness, select_in_tournament\n",
    "\n",
    "# Create a fake distance matrix (5 nodes)\n",
    "distance_matrix = np.array([\n",
    "    [0, 10, 20, 30, 40],\n",
    "    [10, 0, 25, 35, 45],\n",
    "    [20, 25, 0, 15, 50],\n",
    "    [30, 35, 15, 0, 55],\n",
    "    [40, 45, 50, 55, 0]\n",
    "])\n",
    "\n",
    "# Example route\n",
    "route = [0, 1, 2, 3, 4, 0]\n",
    "fitness = calculate_fitness(route, distance_matrix)\n",
    "print(\"Fitness:\", fitness)  # print negative total distance\n",
    "\n",
    "# Example population\n",
    "population = [\n",
    "    [0, 1, 2, 3, 4, 0],\n",
    "    [0, 2, 3, 4, 1, 0],\n",
    "    [0, 3, 4, 1, 2, 0],\n",
    "    [0, 4, 1, 2, 3, 0]\n",
    "]\n",
    "scores = np.array([calculate_fitness(ind, distance_matrix) for ind in population])\n",
    "\n",
    "# Tournament selection test\n",
    "selected = select_in_tournament(population, scores)\n",
    "print(\"Selected Individuals:\", selected)\n"
   ]
  },
  {
   "cell_type": "code",
   "execution_count": null,
   "id": "77d97497-0f16-4e02-9d39-75d26e3873dc",
   "metadata": {},
   "outputs": [],
   "source": []
  },
  {
   "cell_type": "code",
   "execution_count": null,
   "id": "ad6de0e4-6ae9-40bc-be92-1316a17d7064",
   "metadata": {},
   "outputs": [],
   "source": []
  }
 ],
 "metadata": {
  "kernelspec": {
   "display_name": "Python 3 (ipykernel)",
   "language": "python",
   "name": "python3"
  },
  "language_info": {
   "codemirror_mode": {
    "name": "ipython",
    "version": 3
   },
   "file_extension": ".py",
   "mimetype": "text/x-python",
   "name": "python",
   "nbconvert_exporter": "python",
   "pygments_lexer": "ipython3",
   "version": "3.12.9"
  }
 },
 "nbformat": 4,
 "nbformat_minor": 5
}
