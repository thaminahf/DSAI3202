{
 "cells": [
  {
   "cell_type": "code",
   "execution_count": 1,
   "id": "49c5370f-dd4e-4e18-abef-9de523d5ea10",
   "metadata": {},
   "outputs": [
    {
     "name": "stdout",
     "output_type": "stream",
     "text": [
      "Fitness: -145\n",
      "Fitness (should be -1000000): -1000000.0\n"
     ]
    }
   ],
   "source": [
    "import numpy as np\n",
    "from genetic_algorithms_functions import calculate_fitness\n",
    "\n",
    "# Example distance matrix (5 nodes)\n",
    "distance_matrix = np.array([\n",
    "    [0, 10, 20, 30, 40],\n",
    "    [10, 0, 25, 35, 45],\n",
    "    [20, 25, 0, 15, 50],\n",
    "    [30, 35, 15, 0, 55],\n",
    "    [40, 45, 50, 55, 0]\n",
    "])\n",
    "\n",
    "# Example valid route\n",
    "route = [0, 1, 2, 3, 4, 0]\n",
    "fitness = calculate_fitness(route, distance_matrix)\n",
    "print(\"Fitness:\", fitness)  # Should be a negative number, NOT -1000000.0\n",
    "\n",
    "# Example invalid route (node 1 → 3 is disconnected)\n",
    "distance_matrix[1, 3] = 100000\n",
    "route = [0, 1, 3, 4, 2, 0]\n",
    "fitness = calculate_fitness(route, distance_matrix)\n",
    "print(\"Fitness (should be -1000000):\", fitness)\n"
   ]
  },
  {
   "cell_type": "code",
   "execution_count": null,
   "id": "11e40b61-b53c-43c3-a7db-ae4e6385ddc7",
   "metadata": {},
   "outputs": [],
   "source": []
  }
 ],
 "metadata": {
  "kernelspec": {
   "display_name": "Python 3 (ipykernel)",
   "language": "python",
   "name": "python3"
  },
  "language_info": {
   "codemirror_mode": {
    "name": "ipython",
    "version": 3
   },
   "file_extension": ".py",
   "mimetype": "text/x-python",
   "name": "python",
   "nbconvert_exporter": "python",
   "pygments_lexer": "ipython3",
   "version": "3.12.9"
  }
 },
 "nbformat": 4,
 "nbformat_minor": 5
}
