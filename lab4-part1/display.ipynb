{
 "cells": [
  {
   "cell_type": "code",
   "execution_count": null,
   "id": "cc7eae65-f710-4a05-9741-a2a76a6dcaba",
   "metadata": {},
   "outputs": [],
   "source": [
    "import time\n",
    "from IPython.display import clear_output\n",
    "\n",
    "def initialize_display():\n",
    "    print(\"Current temperatures:\")\n",
    "    print(\"Latest Temperatures: Sensor 0: --°C  Sensor 1: --°C  Sensor 2: --°C\")\n",
    "    print(\"Sensor 1 Average: --°C\")\n",
    "    print(\"Sensor 2 Average: --°C\")\n",
    "    print(\"Sensor 3 Average: --°C\")\n",
    "\n",
    "def update_display(latest_temperatures, temperature_averages):\n",
    "    clear_output(wait=True)\n",
    "    print(\"Current temperatures:\")\n",
    "    for sensor, temp in latest_temperatures.items():\n",
    "        print(f\"Latest Temperatures: Sensor {sensor}: {temp}°C\")\n",
    "    print(f\"Sensor Averages: {temperature_averages.get('average', '--')}°C\")\n"
   ]
  }
 ],
 "metadata": {
  "kernelspec": {
   "display_name": "Python 3 (ipykernel)",
   "language": "python",
   "name": "python3"
  },
  "language_info": {
   "codemirror_mode": {
    "name": "ipython",
    "version": 3
   },
   "file_extension": ".py",
   "mimetype": "text/x-python",
   "name": "python",
   "nbconvert_exporter": "python",
   "pygments_lexer": "ipython3",
   "version": "3.12.7"
  }
 },
 "nbformat": 4,
 "nbformat_minor": 5
}
