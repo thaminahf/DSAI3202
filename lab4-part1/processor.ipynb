{
 "cells": [
  {
   "cell_type": "code",
   "execution_count": null,
   "id": "5d66b876-d1ae-4e86-a304-a5b328e45cea",
   "metadata": {},
   "outputs": [],
   "source": [
    "import time\n",
    "import threading\n",
    "from queue import Queue\n",
    "\n",
    "temperature_averages = {}\n",
    "temp_queue = Queue()\n",
    "lock = threading.RLock()\n",
    "\n",
    "def process_temperatures():\n",
    "    global temperature_averages\n",
    "    while True:\n",
    "        with lock:\n",
    "            if not temp_queue.empty():\n",
    "                temps = list(temp_queue.queue)\n",
    "                temperature_averages['average'] = sum(temps) / len(temps)\n",
    "        time.sleep(5)\n",
    "\n",
    "processor_thread = threading.Thread(target=process_temperatures, daemon=True)\n",
    "processor_thread.start()\n"
   ]
  }
 ],
 "metadata": {
  "kernelspec": {
   "display_name": "Python 3 (ipykernel)",
   "language": "python",
   "name": "python3"
  },
  "language_info": {
   "codemirror_mode": {
    "name": "ipython",
    "version": 3
   },
   "file_extension": ".py",
   "mimetype": "text/x-python",
   "name": "python",
   "nbconvert_exporter": "python",
   "pygments_lexer": "ipython3",
   "version": "3.12.7"
  }
 },
 "nbformat": 4,
 "nbformat_minor": 5
}
