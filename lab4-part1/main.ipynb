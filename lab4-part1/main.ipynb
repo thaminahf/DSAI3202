{
 "cells": [
  {
   "cell_type": "code",
   "execution_count": null,
   "id": "8153f759-fb51-4d8b-a96e-d870e3949df9",
   "metadata": {},
   "outputs": [
    {
     "name": "stdout",
     "output_type": "stream",
     "text": [
      "Current temperatures:\n",
      "Latest Temperatures: Sensor 0: 34°C\n",
      "Latest Temperatures: Sensor 1: 30°C\n",
      "Latest Temperatures: Sensor 2: 20°C\n",
      "Sensor Averages: --°C\n"
     ]
    }
   ],
   "source": [
    "%run sensor.ipynb\n",
    "%run processor.ipynb\n",
    "%run display.ipynb\n",
    "\n",
    "import time\n",
    "import threading\n",
    "\n",
    "def main():\n",
    "    initialize_display()\n",
    "\n",
    "    sensor_threads = [threading.Thread(target=simulate_sensor, args=(i,), daemon=True) for i in range(3)]\n",
    "    for thread in sensor_threads:\n",
    "        thread.start()\n",
    "\n",
    "    processor_thread = threading.Thread(target=process_temperatures, daemon=True)\n",
    "    processor_thread.start()\n",
    "\n",
    "    while True:\n",
    "        update_display(latest_temperatures, temperature_averages)\n",
    "        time.sleep(5)\n",
    "\n",
    "if __name__ == \"__main__\":\n",
    "    main()\n"
   ]
  },
  {
   "cell_type": "code",
   "execution_count": null,
   "id": "44d085ae-8eb1-481b-a0da-cf02a78945a1",
   "metadata": {},
   "outputs": [],
   "source": []
  }
 ],
 "metadata": {
  "kernelspec": {
   "display_name": "Python 3 (ipykernel)",
   "language": "python",
   "name": "python3"
  },
  "language_info": {
   "codemirror_mode": {
    "name": "ipython",
    "version": 3
   },
   "file_extension": ".py",
   "mimetype": "text/x-python",
   "name": "python",
   "nbconvert_exporter": "python",
   "pygments_lexer": "ipython3",
   "version": "3.12.7"
  }
 },
 "nbformat": 4,
 "nbformat_minor": 5
}
