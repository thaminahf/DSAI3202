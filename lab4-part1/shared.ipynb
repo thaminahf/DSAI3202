{
 "cells": [
  {
   "cell_type": "code",
   "execution_count": 3,
   "id": "d61188a8-34a5-46a3-8e38-eed366afd0ac",
   "metadata": {},
   "outputs": [],
   "source": [
    "import threading\n",
    "\n",
    "# Shared dictionary to store sensor readings\n",
    "latest_temperatures = {}\n",
    "\n",
    "# Lock for thread safety\n",
    "lock = threading.RLock()\n",
    "\n",
    "def simulate_sensor(sensor_id):\n",
    "    \"\"\"Simulates a temperature sensor that updates the shared dictionary.\"\"\"\n",
    "    import random\n",
    "    import time\n",
    "\n",
    "    while True:\n",
    "        temp = round(random.uniform(20.0, 30.0), 2)  # Generate random temp\n",
    "        with lock:  # Ensure thread-safe access\n",
    "            latest_temperatures[sensor_id] = temp\n",
    "            print(f\"Sensor {sensor_id}: {temp}°C\")\n",
    "        time.sleep(2)  # Simulate sensor delay\n"
   ]
  },
  {
   "cell_type": "code",
   "execution_count": null,
   "id": "8b1dddbf-ee65-401d-9925-5cc57ba48d75",
   "metadata": {},
   "outputs": [],
   "source": []
  },
  {
   "cell_type": "code",
   "execution_count": null,
   "id": "bd87c1e2-6f31-498c-abc8-3c377df269a1",
   "metadata": {},
   "outputs": [],
   "source": []
  }
 ],
 "metadata": {
  "kernelspec": {
   "display_name": "Python 3 (ipykernel)",
   "language": "python",
   "name": "python3"
  },
  "language_info": {
   "codemirror_mode": {
    "name": "ipython",
    "version": 3
   },
   "file_extension": ".py",
   "mimetype": "text/x-python",
   "name": "python",
   "nbconvert_exporter": "python",
   "pygments_lexer": "ipython3",
   "version": "3.12.7"
  }
 },
 "nbformat": 4,
 "nbformat_minor": 5
}
