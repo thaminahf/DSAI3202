{
 "cells": [
  {
   "cell_type": "code",
   "execution_count": 1,
   "id": "d61188a8-34a5-46a3-8e38-eed366afd0ac",
   "metadata": {},
   "outputs": [],
   "source": [
    "import threading\n",
    "\n",
    "# Shared Data Structures\n",
    "latest_temperatures = {}  # Stores latest sensor readings\n",
    "temperature_averages = {}  # Stores computed average temperatures\n",
    "\n",
    "# Thread Synchronization\n",
    "lock = threading.RLock()  # Ensures safe access to shared data\n"
   ]
  },
  {
   "cell_type": "code",
   "execution_count": null,
   "id": "8b1dddbf-ee65-401d-9925-5cc57ba48d75",
   "metadata": {},
   "outputs": [],
   "source": []
  }
 ],
 "metadata": {
  "kernelspec": {
   "display_name": "Python 3 (ipykernel)",
   "language": "python",
   "name": "python3"
  },
  "language_info": {
   "codemirror_mode": {
    "name": "ipython",
    "version": 3
   },
   "file_extension": ".py",
   "mimetype": "text/x-python",
   "name": "python",
   "nbconvert_exporter": "python",
   "pygments_lexer": "ipython3",
   "version": "3.12.7"
  }
 },
 "nbformat": 4,
 "nbformat_minor": 5
}
