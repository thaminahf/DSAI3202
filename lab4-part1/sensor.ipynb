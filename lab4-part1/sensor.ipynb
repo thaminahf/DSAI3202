{
 "cells": [
  {
   "cell_type": "code",
   "execution_count": null,
   "id": "e112358a-d121-4500-b66f-45f578d10cf1",
   "metadata": {},
   "outputs": [],
   "source": [
    "import random\n",
    "import time\n",
    "import threading\n",
    "\n",
    "latest_temperatures = {}\n",
    "lock = threading.RLock()\n",
    "\n",
    "def simulate_sensor(sensor_id):\n",
    "    global latest_temperatures\n",
    "    while True:\n",
    "        temp = random.randint(15, 40)\n",
    "        with lock:\n",
    "            latest_temperatures[sensor_id] = temp\n",
    "        time.sleep(1)\n",
    "\n",
    "sensor_threads = [threading.Thread(target=simulate_sensor, args=(i,), daemon=True) for i in range(3)]\n",
    "for thread in sensor_threads:\n",
    "    thread.start()\n"
   ]
  }
 ],
 "metadata": {
  "kernelspec": {
   "display_name": "Python 3 (ipykernel)",
   "language": "python",
   "name": "python3"
  },
  "language_info": {
   "codemirror_mode": {
    "name": "ipython",
    "version": 3
   },
   "file_extension": ".py",
   "mimetype": "text/x-python",
   "name": "python",
   "nbconvert_exporter": "python",
   "pygments_lexer": "ipython3",
   "version": "3.12.7"
  }
 },
 "nbformat": 4,
 "nbformat_minor": 5
}
