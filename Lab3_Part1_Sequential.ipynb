{
 "cells": [
  {
   "cell_type": "code",
   "execution_count": 1,
   "id": "fcb4bc5d-e048-4dfe-bc0c-b41711ce9fd0",
   "metadata": {},
   "outputs": [
    {
     "name": "stdout",
     "output_type": "stream",
     "text": [
      "Sum: 50000005000000\n",
      "Execution Time (Sequential): 0.10521 seconds\n"
     ]
    }
   ],
   "source": [
    "import time\n",
    "\n",
    "def sequential_sum(n):\n",
    "    \"\"\"Calculate the sum of all numbers from 1 to n sequentially\"\"\"\n",
    "    return sum(range(1, n + 1))\n",
    "\n",
    "if __name__ == \"__main__\":\n",
    "    N = 10**7  # Large number for testing\n",
    "    start_time = time.time()\n",
    "    result = sequential_sum(N)\n",
    "    end_time = time.time()\n",
    "\n",
    "    execution_time = end_time - start_time\n",
    "    print(f\"Sum: {result}\")\n",
    "    print(f\"Execution Time (Sequential): {execution_time:.5f} seconds\")\n"
   ]
  },
  {
   "cell_type": "code",
   "execution_count": null,
   "id": "b9fad4f2-1307-4413-8d71-5858f31dfc85",
   "metadata": {},
   "outputs": [],
   "source": []
  }
 ],
 "metadata": {
  "kernelspec": {
   "display_name": "Python 3 (ipykernel)",
   "language": "python",
   "name": "python3"
  },
  "language_info": {
   "codemirror_mode": {
    "name": "ipython",
    "version": 3
   },
   "file_extension": ".py",
   "mimetype": "text/x-python",
   "name": "python",
   "nbconvert_exporter": "python",
   "pygments_lexer": "ipython3",
   "version": "3.12.7"
  }
 },
 "nbformat": 4,
 "nbformat_minor": 5
}
